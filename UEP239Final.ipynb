{
 "cells": [
  {
   "cell_type": "markdown",
   "id": "smoking-metabolism",
   "metadata": {},
   "source": [
    "Fina Short UEP239 Final Project"
   ]
  },
  {
   "cell_type": "markdown",
   "id": "gothic-slide",
   "metadata": {},
   "source": [
    "In this project I will execute a suitability analysis determining the most suitable ZIP Code Tabulation Area (ZCTA) for recent college graduates to move to. The project focuses on the Boston Metropolitan Area as defined by the boundary of the Boston Region Metropolitan Planning Organization (MPO). The analysis will use four indicators to calculate suitability for this demographic, including 1) mean housing price/rent payment, 2) age distribution of population, 3) euclidean proximity to train node,"
   ]
  },
  {
   "cell_type": "code",
   "execution_count": 2,
   "id": "sacred-papua",
   "metadata": {},
   "outputs": [],
   "source": [
    "#Import dependencies\n",
    "import rasterio\n",
    "from rasterio.plot import show\n",
    "from rasterio import features\n",
    "\n",
    "import numpy as np\n",
    "import geopandas as gpd\n",
    "import matplotlib.pyplot as plt\n",
    "\n",
    "import richdem as rd\n",
    "from scipy import ndimage\n",
    "from rasterstats import zonal_stats"
   ]
  },
  {
   "cell_type": "code",
   "execution_count": 3,
   "id": "subjective-canon",
   "metadata": {},
   "outputs": [],
   "source": [
    "#Use the provided MA outline with detailed coastline OUTLINE25K_POLY.shp to clip the ZCTAs shapefile tl_2010_25_zcta510.shp into the more detailed outline. \n",
    "#This will remove the parts of the coastal ZCTAs that extend into the ocean, allowing for a better match with the Boston Region MPO boundary and making your maps more beautiful. \n",
    "#This can easily be done using the clip() function from GeoPandas.\n",
    "\n",
    "#Extract the outline of the Boston Region MPO from the MPO boundaries shapefile. (This can be easily done using plain old Pandas boolean indexing.)\n",
    "import numpy as np\n",
    "import geopandas as gpd\n",
    "#Extract all the ZCTAs whose centroid is within the Boston Region MPO boundary."
   ]
  },
  {
   "cell_type": "markdown",
   "id": "518d07c1-fbfa-4f60-b896-97be828602cd",
   "metadata": {},
   "source": [
    "Data for Demographic & Social Indicators"
   ]
  },
  {
   "cell_type": "code",
   "execution_count": null,
   "id": "67cca511-3739-4fbc-a47a-c2da20be62cd",
   "metadata": {},
   "outputs": [],
   "source": [
    "#indicator for age and sex, csv format\n",
    "ACSST5Y2019.S0101"
   ]
  },
  {
   "cell_type": "raw",
   "id": "4e939b45-b743-4b63-a489-f7f6929ec030",
   "metadata": {},
   "source": [
    "Data for Availability & Accessibility | Points of Interest"
   ]
  },
  {
   "cell_type": "code",
   "execution_count": 8,
   "id": "hourly-updating",
   "metadata": {},
   "outputs": [
    {
     "data": {
      "text/html": [
       "<div>\n",
       "<style scoped>\n",
       "    .dataframe tbody tr th:only-of-type {\n",
       "        vertical-align: middle;\n",
       "    }\n",
       "\n",
       "    .dataframe tbody tr th {\n",
       "        vertical-align: top;\n",
       "    }\n",
       "\n",
       "    .dataframe thead th {\n",
       "        text-align: right;\n",
       "    }\n",
       "</style>\n",
       "<table border=\"1\" class=\"dataframe\">\n",
       "  <thead>\n",
       "    <tr style=\"text-align: right;\">\n",
       "      <th></th>\n",
       "      <th>OBJECTID</th>\n",
       "      <th>STOP_ID</th>\n",
       "      <th>STOP_NAME</th>\n",
       "      <th>TOWN</th>\n",
       "      <th>TOWN_ID</th>\n",
       "      <th>geometry</th>\n",
       "    </tr>\n",
       "  </thead>\n",
       "  <tbody>\n",
       "    <tr>\n",
       "      <th>0</th>\n",
       "      <td>1</td>\n",
       "      <td>3077</td>\n",
       "      <td>Gallivan Blvd @ opp Marsh St</td>\n",
       "      <td>BOSTON</td>\n",
       "      <td>35</td>\n",
       "      <td>POINT (237120.669 892643.408)</td>\n",
       "    </tr>\n",
       "    <tr>\n",
       "      <th>1</th>\n",
       "      <td>2</td>\n",
       "      <td>841</td>\n",
       "      <td>Lagrange St @ Virgil Rd</td>\n",
       "      <td>BOSTON</td>\n",
       "      <td>35</td>\n",
       "      <td>POINT (227915.195 892644.017)</td>\n",
       "    </tr>\n",
       "    <tr>\n",
       "      <th>2</th>\n",
       "      <td>3</td>\n",
       "      <td>446</td>\n",
       "      <td>Norfolk St @ Nelson St</td>\n",
       "      <td>BOSTON</td>\n",
       "      <td>35</td>\n",
       "      <td>POINT (234385.661 892644.944)</td>\n",
       "    </tr>\n",
       "    <tr>\n",
       "      <th>3</th>\n",
       "      <td>4</td>\n",
       "      <td>847</td>\n",
       "      <td>Lagrange St opp Virgil St</td>\n",
       "      <td>BOSTON</td>\n",
       "      <td>35</td>\n",
       "      <td>POINT (227912.601 892650.156)</td>\n",
       "    </tr>\n",
       "    <tr>\n",
       "      <th>4</th>\n",
       "      <td>5</td>\n",
       "      <td>3079</td>\n",
       "      <td>Adams St @ Minot St</td>\n",
       "      <td>BOSTON</td>\n",
       "      <td>35</td>\n",
       "      <td>POINT (236644.812 892651.990)</td>\n",
       "    </tr>\n",
       "    <tr>\n",
       "      <th>5</th>\n",
       "      <td>6</td>\n",
       "      <td>8687</td>\n",
       "      <td>Adams St @ Minot St</td>\n",
       "      <td>BOSTON</td>\n",
       "      <td>35</td>\n",
       "      <td>POINT (236649.767 892672.199)</td>\n",
       "    </tr>\n",
       "    <tr>\n",
       "      <th>6</th>\n",
       "      <td>7</td>\n",
       "      <td>808</td>\n",
       "      <td>Centre St opp Bellevue st</td>\n",
       "      <td>BOSTON</td>\n",
       "      <td>35</td>\n",
       "      <td>POINT (228299.467 892674.321)</td>\n",
       "    </tr>\n",
       "    <tr>\n",
       "      <th>7</th>\n",
       "      <td>8</td>\n",
       "      <td>33076</td>\n",
       "      <td>Gallivan Blvd @ Hallet St</td>\n",
       "      <td>BOSTON</td>\n",
       "      <td>35</td>\n",
       "      <td>POINT (237367.877 892703.008)</td>\n",
       "    </tr>\n",
       "  </tbody>\n",
       "</table>\n",
       "</div>"
      ],
      "text/plain": [
       "   OBJECTID  STOP_ID                     STOP_NAME    TOWN  TOWN_ID  \\\n",
       "0         1     3077  Gallivan Blvd @ opp Marsh St  BOSTON       35   \n",
       "1         2      841       Lagrange St @ Virgil Rd  BOSTON       35   \n",
       "2         3      446        Norfolk St @ Nelson St  BOSTON       35   \n",
       "3         4      847     Lagrange St opp Virgil St  BOSTON       35   \n",
       "4         5     3079           Adams St @ Minot St  BOSTON       35   \n",
       "5         6     8687           Adams St @ Minot St  BOSTON       35   \n",
       "6         7      808     Centre St opp Bellevue st  BOSTON       35   \n",
       "7         8    33076     Gallivan Blvd @ Hallet St  BOSTON       35   \n",
       "\n",
       "                        geometry  \n",
       "0  POINT (237120.669 892643.408)  \n",
       "1  POINT (227915.195 892644.017)  \n",
       "2  POINT (234385.661 892644.944)  \n",
       "3  POINT (227912.601 892650.156)  \n",
       "4  POINT (236644.812 892651.990)  \n",
       "5  POINT (236649.767 892672.199)  \n",
       "6  POINT (228299.467 892674.321)  \n",
       "7  POINT (237367.877 892703.008)  "
      ]
     },
     "execution_count": 8,
     "metadata": {},
     "output_type": "execute_result"
    }
   ],
   "source": [
    "#read in bus stops file\n",
    "buspoints= gpd.read_file(\"\\\\Users\\\\finas\\\\Documents\\\\my work\\\\School work\\\\Tufts GRAD\\\\Spring 2021\\\\UEP239\\\\uep239-final-project\\\\project_data\\\\MBTA_Bus_Stops\\\\MBTA_Bus_Stops.shp\")\n",
    "buspoints.head(8)"
   ]
  },
  {
   "cell_type": "code",
   "execution_count": 9,
   "id": "inclusive-jumping",
   "metadata": {},
   "outputs": [
    {
     "data": {
      "text/html": [
       "<div>\n",
       "<style scoped>\n",
       "    .dataframe tbody tr th:only-of-type {\n",
       "        vertical-align: middle;\n",
       "    }\n",
       "\n",
       "    .dataframe tbody tr th {\n",
       "        vertical-align: top;\n",
       "    }\n",
       "\n",
       "    .dataframe thead th {\n",
       "        text-align: right;\n",
       "    }\n",
       "</style>\n",
       "<table border=\"1\" class=\"dataframe\">\n",
       "  <thead>\n",
       "    <tr style=\"text-align: right;\">\n",
       "      <th></th>\n",
       "      <th>STATION</th>\n",
       "      <th>LINE</th>\n",
       "      <th>TERMINUS</th>\n",
       "      <th>ROUTE</th>\n",
       "      <th>geometry</th>\n",
       "    </tr>\n",
       "  </thead>\n",
       "  <tbody>\n",
       "    <tr>\n",
       "      <th>0</th>\n",
       "      <td>Ashmont</td>\n",
       "      <td>RED</td>\n",
       "      <td>Y</td>\n",
       "      <td>A - Ashmont  C - Alewife</td>\n",
       "      <td>POINT (236007.538 892693.023)</td>\n",
       "    </tr>\n",
       "    <tr>\n",
       "      <th>1</th>\n",
       "      <td>Harvard</td>\n",
       "      <td>RED</td>\n",
       "      <td>N</td>\n",
       "      <td>A - Ashmont  B - Braintree  C - Alewife</td>\n",
       "      <td>POINT (231387.274 902684.016)</td>\n",
       "    </tr>\n",
       "    <tr>\n",
       "      <th>2</th>\n",
       "      <td>Kendall/MIT</td>\n",
       "      <td>RED</td>\n",
       "      <td>N</td>\n",
       "      <td>A - Ashmont  B - Braintree  C - Alewife</td>\n",
       "      <td>POINT (234087.917 901406.551)</td>\n",
       "    </tr>\n",
       "    <tr>\n",
       "      <th>3</th>\n",
       "      <td>Capen Street</td>\n",
       "      <td>RED</td>\n",
       "      <td>N</td>\n",
       "      <td>Mattapan Trolley</td>\n",
       "      <td>POINT (234055.438 890869.375)</td>\n",
       "    </tr>\n",
       "    <tr>\n",
       "      <th>4</th>\n",
       "      <td>Tufts Medical Center</td>\n",
       "      <td>ORANGE</td>\n",
       "      <td>N</td>\n",
       "      <td>Forest Hills to Oak Grove</td>\n",
       "      <td>POINT (235900.324 899934.313)</td>\n",
       "    </tr>\n",
       "    <tr>\n",
       "      <th>5</th>\n",
       "      <td>Waban</td>\n",
       "      <td>GREEN</td>\n",
       "      <td>N</td>\n",
       "      <td>D - Riverside</td>\n",
       "      <td>POINT (222197.281 897300.437)</td>\n",
       "    </tr>\n",
       "    <tr>\n",
       "      <th>6</th>\n",
       "      <td>Kenmore</td>\n",
       "      <td>GREEN</td>\n",
       "      <td>N</td>\n",
       "      <td>B C D</td>\n",
       "      <td>POINT (233324.505 899912.392)</td>\n",
       "    </tr>\n",
       "    <tr>\n",
       "      <th>7</th>\n",
       "      <td>Arlington</td>\n",
       "      <td>GREEN</td>\n",
       "      <td>N</td>\n",
       "      <td>B C D E</td>\n",
       "      <td>POINT (235346.130 900230.131)</td>\n",
       "    </tr>\n",
       "  </tbody>\n",
       "</table>\n",
       "</div>"
      ],
      "text/plain": [
       "                STATION    LINE TERMINUS  \\\n",
       "0               Ashmont     RED        Y   \n",
       "1               Harvard     RED        N   \n",
       "2           Kendall/MIT     RED        N   \n",
       "3          Capen Street     RED        N   \n",
       "4  Tufts Medical Center  ORANGE        N   \n",
       "5                 Waban   GREEN        N   \n",
       "6               Kenmore   GREEN        N   \n",
       "7             Arlington   GREEN        N   \n",
       "\n",
       "                                     ROUTE                       geometry  \n",
       "0                 A - Ashmont  C - Alewife  POINT (236007.538 892693.023)  \n",
       "1  A - Ashmont  B - Braintree  C - Alewife  POINT (231387.274 902684.016)  \n",
       "2  A - Ashmont  B - Braintree  C - Alewife  POINT (234087.917 901406.551)  \n",
       "3                         Mattapan Trolley  POINT (234055.438 890869.375)  \n",
       "4                Forest Hills to Oak Grove  POINT (235900.324 899934.313)  \n",
       "5                            D - Riverside  POINT (222197.281 897300.437)  \n",
       "6                                    B C D  POINT (233324.505 899912.392)  \n",
       "7                                  B C D E  POINT (235346.130 900230.131)  "
      ]
     },
     "execution_count": 9,
     "metadata": {},
     "output_type": "execute_result"
    }
   ],
   "source": [
    "#read in T stops file\n",
    "tpoints= gpd.read_file(\"\\\\Users\\\\finas\\\\Documents\\\\my work\\\\School work\\\\Tufts GRAD\\\\Spring 2021\\\\UEP239\\\\uep239-final-project\\\\project_data\\\\MBTA_NODE\\\\MBTA_NODE.shp\")\n",
    "tpoints.head(8)"
   ]
  },
  {
   "cell_type": "markdown",
   "id": "3d81ee19-c552-4f7a-ae7c-368b6f25e37f",
   "metadata": {},
   "source": [
    "#For each chosen indicator:\n",
    "#If applicable, visualize any spatial data the indicator is based on. (For example, the locations of certain POIs.)"
   ]
  },
  {
   "cell_type": "markdown",
   "id": "302f4ee1-c4ca-476a-a540-8a7c03bdb923",
   "metadata": {},
   "source": [
    "#Summarize the indicator values (like population density) for each ZCTA in the study area."
   ]
  },
  {
   "cell_type": "markdown",
   "id": "3925c237-8a9d-48d5-8373-57d45a84fb85",
   "metadata": {},
   "source": [
    "\n",
    "#Produce a choropleth map visualizing the indicator values and produce a ZCTA ranking based on the indicator values, reporting the highest and lowest ranking ZCTAs.\n"
   ]
  },
  {
   "cell_type": "markdown",
   "id": "c8a5cdff-9036-451c-8f03-36ba6e59cfd8",
   "metadata": {},
   "source": [
    "\n",
    "#Convert the indicator values into a suitability or vulnerability index or score. This can be done in two ways:\n"
   ]
  },
  {
   "cell_type": "markdown",
   "id": "3e946d90-b049-4279-b860-86f1daee2a92",
   "metadata": {},
   "source": [
    "#Reclassify the indicator values based on classes of your choice into a five-point (or ten-point) score."
   ]
  },
  {
   "cell_type": "markdown",
   "id": "3c106380-94bb-4764-93c3-375a1d6299ea",
   "metadata": {},
   "source": [
    "#Normalize the indicator values into a suitability or vulnerability index ranging from zero to one."
   ]
  }
 ],
 "metadata": {
  "kernelspec": {
   "display_name": "Python 3",
   "language": "python",
   "name": "python3"
  },
  "language_info": {
   "codemirror_mode": {
    "name": "ipython",
    "version": 3
   },
   "file_extension": ".py",
   "mimetype": "text/x-python",
   "name": "python",
   "nbconvert_exporter": "python",
   "pygments_lexer": "ipython3",
   "version": "3.8.8"
  }
 },
 "nbformat": 4,
 "nbformat_minor": 5
}
